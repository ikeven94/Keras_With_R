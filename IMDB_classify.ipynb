{
  "nbformat": 4,
  "nbformat_minor": 0,
  "metadata": {
    "colab": {
      "name": "Untitled3.ipynb",
      "provenance": [],
      "collapsed_sections": []
    },
    "kernelspec": {
      "name": "ir",
      "display_name": "R"
    },
    "accelerator": "GPU"
  },
  "cells": [
    {
      "cell_type": "markdown",
      "metadata": {
        "id": "Hb_IebtEmVHW"
      },
      "source": [
        "# Load imdb Data Set"
      ]
    },
    {
      "cell_type": "code",
      "metadata": {
        "colab": {
          "base_uri": "https://localhost:8080/"
        },
        "id": "M4I9jkVRW0yC",
        "outputId": "e9ea358f-35bb-4ccd-80df-910dd55610a6"
      },
      "source": [
        "install.packages('keras')\n",
        "library(keras)"
      ],
      "execution_count": 3,
      "outputs": [
        {
          "output_type": "stream",
          "text": [
            "Installing package into ‘/usr/local/lib/R/site-library’\n",
            "(as ‘lib’ is unspecified)\n",
            "\n",
            "also installing the dependencies ‘rappdirs’, ‘config’, ‘reticulate’, ‘tensorflow’, ‘tfruns’, ‘zeallot’\n",
            "\n",
            "\n"
          ],
          "name": "stderr"
        }
      ]
    },
    {
      "cell_type": "code",
      "metadata": {
        "id": "7VeUHKhOXd-I"
      },
      "source": [
        "imdb <- dataset_imdb(num_words = 10000) # train set에서 출현빈도 기준 상위 10000개 단어"
      ],
      "execution_count": 4,
      "outputs": []
    },
    {
      "cell_type": "code",
      "metadata": {
        "id": "zjNiWLQnXwsy"
      },
      "source": [
        "c(c(train_data, train_labels), c(test_data,test_labels)) %<-% imdb"
      ],
      "execution_count": 6,
      "outputs": []
    },
    {
      "cell_type": "code",
      "metadata": {
        "colab": {
          "base_uri": "https://localhost:8080/"
        },
        "id": "uUS7AAxIbht-",
        "outputId": "45365963-58d1-4c65-ead2-c8eb861a72a8"
      },
      "source": [
        "str(train_data[[1]])"
      ],
      "execution_count": 7,
      "outputs": [
        {
          "output_type": "stream",
          "text": [
            " int [1:218] 1 14 22 16 43 530 973 1622 1385 65 ...\n"
          ],
          "name": "stdout"
        }
      ]
    },
    {
      "cell_type": "code",
      "metadata": {
        "colab": {
          "base_uri": "https://localhost:8080/",
          "height": 34
        },
        "id": "CytFDt_PboQ6",
        "outputId": "653b59bf-b32e-495a-f800-9c7e94857a8d"
      },
      "source": [
        "train_labels[1] # 긍정 "
      ],
      "execution_count": 8,
      "outputs": [
        {
          "output_type": "display_data",
          "data": {
            "text/plain": [
              "[1] 1"
            ],
            "text/latex": "1",
            "text/markdown": "1",
            "text/html": [
              "1"
            ]
          },
          "metadata": {
            "tags": []
          }
        }
      ]
    },
    {
      "cell_type": "code",
      "metadata": {
        "colab": {
          "base_uri": "https://localhost:8080/",
          "height": 34
        },
        "id": "WUldgfPxbqiT",
        "outputId": "7527e644-c8df-4643-902a-f12dd89efc40"
      },
      "source": [
        "max(sapply(train_data,max)) # 가장 많이 사용하는 10000개의 데이터 이므로 최대 index 9999"
      ],
      "execution_count": 9,
      "outputs": [
        {
          "output_type": "display_data",
          "data": {
            "text/plain": [
              "[1] 9999"
            ],
            "text/latex": "9999",
            "text/markdown": "9999",
            "text/html": [
              "9999"
            ]
          },
          "metadata": {
            "tags": []
          }
        }
      ]
    },
    {
      "cell_type": "code",
      "metadata": {
        "colab": {
          "base_uri": "https://localhost:8080/",
          "height": 248
        },
        "id": "z542sZCgbz8k",
        "outputId": "bbb28290-1176-4e9b-a587-166fa59a5642"
      },
      "source": [
        "word_index <- dataset_imdb_word_index()\n",
        "head(word_index)"
      ],
      "execution_count": 10,
      "outputs": [
        {
          "output_type": "display_data",
          "data": {
            "text/plain": [
              "$fawn\n",
              "[1] 34701\n",
              "\n",
              "$tsukino\n",
              "[1] 52006\n",
              "\n",
              "$nunnery\n",
              "[1] 52007\n",
              "\n",
              "$sonja\n",
              "[1] 16816\n",
              "\n",
              "$vani\n",
              "[1] 63951\n",
              "\n",
              "$woods\n",
              "[1] 1408\n"
            ],
            "text/latex": "\\begin{description}\n\\item[\\$fawn] 34701\n\\item[\\$tsukino] 52006\n\\item[\\$nunnery] 52007\n\\item[\\$sonja] 16816\n\\item[\\$vani] 63951\n\\item[\\$woods] 1408\n\\end{description}\n",
            "text/markdown": "$fawn\n:   34701\n$tsukino\n:   52006\n$nunnery\n:   52007\n$sonja\n:   16816\n$vani\n:   63951\n$woods\n:   1408\n\n\n",
            "text/html": [
              "<dl>\n",
              "\t<dt>$fawn</dt>\n",
              "\t\t<dd>34701</dd>\n",
              "\t<dt>$tsukino</dt>\n",
              "\t\t<dd>52006</dd>\n",
              "\t<dt>$nunnery</dt>\n",
              "\t\t<dd>52007</dd>\n",
              "\t<dt>$sonja</dt>\n",
              "\t\t<dd>16816</dd>\n",
              "\t<dt>$vani</dt>\n",
              "\t\t<dd>63951</dd>\n",
              "\t<dt>$woods</dt>\n",
              "\t\t<dd>1408</dd>\n",
              "</dl>\n"
            ]
          },
          "metadata": {
            "tags": []
          }
        }
      ]
    },
    {
      "cell_type": "code",
      "metadata": {
        "colab": {
          "base_uri": "https://localhost:8080/",
          "height": 34
        },
        "id": "pN09pXSlkTAq",
        "outputId": "a11dd5d9-c3ec-466d-f29b-e6e2d829f99d"
      },
      "source": [
        "reverse_word_index <- names(word_index) # word index의 name\n",
        "head(reverse_word_index)"
      ],
      "execution_count": 11,
      "outputs": [
        {
          "output_type": "display_data",
          "data": {
            "text/plain": [
              "[1] \"fawn\"    \"tsukino\" \"nunnery\" \"sonja\"   \"vani\"    \"woods\"  "
            ],
            "text/latex": "\\begin{enumerate*}\n\\item 'fawn'\n\\item 'tsukino'\n\\item 'nunnery'\n\\item 'sonja'\n\\item 'vani'\n\\item 'woods'\n\\end{enumerate*}\n",
            "text/markdown": "1. 'fawn'\n2. 'tsukino'\n3. 'nunnery'\n4. 'sonja'\n5. 'vani'\n6. 'woods'\n\n\n",
            "text/html": [
              "<style>\n",
              ".list-inline {list-style: none; margin:0; padding: 0}\n",
              ".list-inline>li {display: inline-block}\n",
              ".list-inline>li:not(:last-child)::after {content: \"\\00b7\"; padding: 0 .5ex}\n",
              "</style>\n",
              "<ol class=list-inline><li>'fawn'</li><li>'tsukino'</li><li>'nunnery'</li><li>'sonja'</li><li>'vani'</li><li>'woods'</li></ol>\n"
            ]
          },
          "metadata": {
            "tags": []
          }
        }
      ]
    },
    {
      "cell_type": "code",
      "metadata": {
        "colab": {
          "base_uri": "https://localhost:8080/",
          "height": 34
        },
        "id": "4HGnFKu5kfYb",
        "outputId": "92a1c371-a951-40b6-b07e-01cff8048a1a"
      },
      "source": [
        "names(reverse_word_index) <- word_index # 자료구조 reversing\n",
        "head(reverse_word_index)"
      ],
      "execution_count": 12,
      "outputs": [
        {
          "output_type": "display_data",
          "data": {
            "text/plain": [
              "    34701     52006     52007     16816     63951      1408 \n",
              "   \"fawn\" \"tsukino\" \"nunnery\"   \"sonja\"    \"vani\"   \"woods\" "
            ],
            "text/latex": "\\begin{description*}\n\\item[34701] 'fawn'\n\\item[52006] 'tsukino'\n\\item[52007] 'nunnery'\n\\item[16816] 'sonja'\n\\item[63951] 'vani'\n\\item[1408] 'woods'\n\\end{description*}\n",
            "text/markdown": "34701\n:   'fawn'52006\n:   'tsukino'52007\n:   'nunnery'16816\n:   'sonja'63951\n:   'vani'1408\n:   'woods'\n\n",
            "text/html": [
              "<style>\n",
              ".dl-inline {width: auto; margin:0; padding: 0}\n",
              ".dl-inline>dt, .dl-inline>dd {float: none; width: auto; display: inline-block}\n",
              ".dl-inline>dt::after {content: \":\\0020\"; padding-right: .5ex}\n",
              ".dl-inline>dt:not(:first-of-type) {padding-left: .5ex}\n",
              "</style><dl class=dl-inline><dt>34701</dt><dd>'fawn'</dd><dt>52006</dt><dd>'tsukino'</dd><dt>52007</dt><dd>'nunnery'</dd><dt>16816</dt><dd>'sonja'</dd><dt>63951</dt><dd>'vani'</dd><dt>1408</dt><dd>'woods'</dd></dl>\n"
            ]
          },
          "metadata": {
            "tags": []
          }
        }
      ]
    },
    {
      "cell_type": "code",
      "metadata": {
        "id": "KfGmP68wkvIp"
      },
      "source": [
        "decoded_review <- sapply(train_data[[1]],function(index) {\n",
        "  word <- if (index >= 3) reverse_word_index[[as.character(index - 3)]]\n",
        "  if (!is.null(word)) word \n",
        "  else \"?\"\n",
        "\n",
        "})"
      ],
      "execution_count": 13,
      "outputs": []
    },
    {
      "cell_type": "code",
      "metadata": {
        "colab": {
          "base_uri": "https://localhost:8080/",
          "height": 34
        },
        "id": "VTF068HDk8CX",
        "outputId": "4f77469e-8b0d-4711-f96d-b7f3db9ebabe"
      },
      "source": [
        "head(decoded_review,10)"
      ],
      "execution_count": 14,
      "outputs": [
        {
          "output_type": "display_data",
          "data": {
            "text/plain": [
              " [1] \"?\"         \"this\"      \"film\"      \"was\"       \"just\"      \"brilliant\"\n",
              " [7] \"casting\"   \"location\"  \"scenery\"   \"story\"    "
            ],
            "text/latex": "\\begin{enumerate*}\n\\item '?'\n\\item 'this'\n\\item 'film'\n\\item 'was'\n\\item 'just'\n\\item 'brilliant'\n\\item 'casting'\n\\item 'location'\n\\item 'scenery'\n\\item 'story'\n\\end{enumerate*}\n",
            "text/markdown": "1. '?'\n2. 'this'\n3. 'film'\n4. 'was'\n5. 'just'\n6. 'brilliant'\n7. 'casting'\n8. 'location'\n9. 'scenery'\n10. 'story'\n\n\n",
            "text/html": [
              "<style>\n",
              ".list-inline {list-style: none; margin:0; padding: 0}\n",
              ".list-inline>li {display: inline-block}\n",
              ".list-inline>li:not(:last-child)::after {content: \"\\00b7\"; padding: 0 .5ex}\n",
              "</style>\n",
              "<ol class=list-inline><li>'?'</li><li>'this'</li><li>'film'</li><li>'was'</li><li>'just'</li><li>'brilliant'</li><li>'casting'</li><li>'location'</li><li>'scenery'</li><li>'story'</li></ol>\n"
            ]
          },
          "metadata": {
            "tags": []
          }
        }
      ]
    },
    {
      "cell_type": "code",
      "metadata": {
        "id": "Venp5_CAlaCr"
      },
      "source": [
        "# 정수 시퀀스 이진화 행렬로 부호화\n",
        "vectorize_sequences <- function(sequences, dimension = 10000) {\n",
        "  results <- matrix(0, nrow=length(sequences), ncol = dimension) # length(train_data) : 25000  >>> 25000*10000 행렬\n",
        "  for (i in 1:length(sequences))\n",
        "    results[i,sequences[[i]]] <- 1\n",
        "  results\n",
        "}\n",
        "\n",
        "x_train <- vectorize_sequences(train_data)\n",
        "x_test <- vectorize_sequences(test_data)"
      ],
      "execution_count": 15,
      "outputs": []
    },
    {
      "cell_type": "code",
      "metadata": {
        "colab": {
          "base_uri": "https://localhost:8080/",
          "height": 333
        },
        "id": "hnntjsZinTUG",
        "outputId": "65cadce2-f8a1-4321-d2ba-24fc3a6c789f"
      },
      "source": [
        "head(x_train)\n",
        "head(x_test)\n",
        "length(train_data)\n",
        "length(x_test)"
      ],
      "execution_count": 16,
      "outputs": [
        {
          "output_type": "display_data",
          "data": {
            "text/plain": [
              "     [,1] [,2] [,3] [,4] [,5] [,6] [,7] [,8] [,9] [,10] [,11] [,12] [,13] [,14]\n",
              "[1,] 1    1    0    1    1    1    1    1    1    0     ⋯     0     0     0    \n",
              "[2,] 1    1    0    1    1    1    1    1    1    0     ⋯     0     0     0    \n",
              "[3,] 1    1    0    1    0    1    1    1    1    0     ⋯     0     0     0    \n",
              "[4,] 1    1    0    1    1    1    1    1    1    1     ⋯     0     0     0    \n",
              "[5,] 1    1    0    1    1    1    1    1    0    1     ⋯     0     0     0    \n",
              "[6,] 1    1    0    1    0    0    0    1    0    1     ⋯     0     0     0    \n",
              "     [,15] [,16] [,17] [,18] [,19] [,20] [,21]\n",
              "[1,] 0     0     0     0     0     0     0    \n",
              "[2,] 0     0     0     0     0     0     0    \n",
              "[3,] 0     0     0     0     0     0     0    \n",
              "[4,] 0     0     0     0     0     0     0    \n",
              "[5,] 0     0     0     0     0     0     0    \n",
              "[6,] 0     0     0     0     0     0     0    "
            ],
            "text/latex": "A matrix: 6 × 10000 of type dbl\n\\begin{tabular}{lllllllllllllllllllll}\n\t 1 & 1 & 0 & 1 & 1 & 1 & 1 & 1 & 1 & 0 & ⋯ & 0 & 0 & 0 & 0 & 0 & 0 & 0 & 0 & 0 & 0\\\\\n\t 1 & 1 & 0 & 1 & 1 & 1 & 1 & 1 & 1 & 0 & ⋯ & 0 & 0 & 0 & 0 & 0 & 0 & 0 & 0 & 0 & 0\\\\\n\t 1 & 1 & 0 & 1 & 0 & 1 & 1 & 1 & 1 & 0 & ⋯ & 0 & 0 & 0 & 0 & 0 & 0 & 0 & 0 & 0 & 0\\\\\n\t 1 & 1 & 0 & 1 & 1 & 1 & 1 & 1 & 1 & 1 & ⋯ & 0 & 0 & 0 & 0 & 0 & 0 & 0 & 0 & 0 & 0\\\\\n\t 1 & 1 & 0 & 1 & 1 & 1 & 1 & 1 & 0 & 1 & ⋯ & 0 & 0 & 0 & 0 & 0 & 0 & 0 & 0 & 0 & 0\\\\\n\t 1 & 1 & 0 & 1 & 0 & 0 & 0 & 1 & 0 & 1 & ⋯ & 0 & 0 & 0 & 0 & 0 & 0 & 0 & 0 & 0 & 0\\\\\n\\end{tabular}\n",
            "text/markdown": "\nA matrix: 6 × 10000 of type dbl\n\n| 1 | 1 | 0 | 1 | 1 | 1 | 1 | 1 | 1 | 0 | ⋯ | 0 | 0 | 0 | 0 | 0 | 0 | 0 | 0 | 0 | 0 |\n| 1 | 1 | 0 | 1 | 1 | 1 | 1 | 1 | 1 | 0 | ⋯ | 0 | 0 | 0 | 0 | 0 | 0 | 0 | 0 | 0 | 0 |\n| 1 | 1 | 0 | 1 | 0 | 1 | 1 | 1 | 1 | 0 | ⋯ | 0 | 0 | 0 | 0 | 0 | 0 | 0 | 0 | 0 | 0 |\n| 1 | 1 | 0 | 1 | 1 | 1 | 1 | 1 | 1 | 1 | ⋯ | 0 | 0 | 0 | 0 | 0 | 0 | 0 | 0 | 0 | 0 |\n| 1 | 1 | 0 | 1 | 1 | 1 | 1 | 1 | 0 | 1 | ⋯ | 0 | 0 | 0 | 0 | 0 | 0 | 0 | 0 | 0 | 0 |\n| 1 | 1 | 0 | 1 | 0 | 0 | 0 | 1 | 0 | 1 | ⋯ | 0 | 0 | 0 | 0 | 0 | 0 | 0 | 0 | 0 | 0 |\n\n",
            "text/html": [
              "<table>\n",
              "<caption>A matrix: 6 × 10000 of type dbl</caption>\n",
              "<tbody>\n",
              "\t<tr><td>1</td><td>1</td><td>0</td><td>1</td><td>1</td><td>1</td><td>1</td><td>1</td><td>1</td><td>0</td><td>⋯</td><td>0</td><td>0</td><td>0</td><td>0</td><td>0</td><td>0</td><td>0</td><td>0</td><td>0</td><td>0</td></tr>\n",
              "\t<tr><td>1</td><td>1</td><td>0</td><td>1</td><td>1</td><td>1</td><td>1</td><td>1</td><td>1</td><td>0</td><td>⋯</td><td>0</td><td>0</td><td>0</td><td>0</td><td>0</td><td>0</td><td>0</td><td>0</td><td>0</td><td>0</td></tr>\n",
              "\t<tr><td>1</td><td>1</td><td>0</td><td>1</td><td>0</td><td>1</td><td>1</td><td>1</td><td>1</td><td>0</td><td>⋯</td><td>0</td><td>0</td><td>0</td><td>0</td><td>0</td><td>0</td><td>0</td><td>0</td><td>0</td><td>0</td></tr>\n",
              "\t<tr><td>1</td><td>1</td><td>0</td><td>1</td><td>1</td><td>1</td><td>1</td><td>1</td><td>1</td><td>1</td><td>⋯</td><td>0</td><td>0</td><td>0</td><td>0</td><td>0</td><td>0</td><td>0</td><td>0</td><td>0</td><td>0</td></tr>\n",
              "\t<tr><td>1</td><td>1</td><td>0</td><td>1</td><td>1</td><td>1</td><td>1</td><td>1</td><td>0</td><td>1</td><td>⋯</td><td>0</td><td>0</td><td>0</td><td>0</td><td>0</td><td>0</td><td>0</td><td>0</td><td>0</td><td>0</td></tr>\n",
              "\t<tr><td>1</td><td>1</td><td>0</td><td>1</td><td>0</td><td>0</td><td>0</td><td>1</td><td>0</td><td>1</td><td>⋯</td><td>0</td><td>0</td><td>0</td><td>0</td><td>0</td><td>0</td><td>0</td><td>0</td><td>0</td><td>0</td></tr>\n",
              "</tbody>\n",
              "</table>\n"
            ]
          },
          "metadata": {
            "tags": []
          }
        },
        {
          "output_type": "display_data",
          "data": {
            "text/plain": [
              "     [,1] [,2] [,3] [,4] [,5] [,6] [,7] [,8] [,9] [,10] [,11] [,12] [,13] [,14]\n",
              "[1,] 1    1    0    1    1    1    1    1    1    1     ⋯     0     0     0    \n",
              "[2,] 1    1    0    1    1    1    1    1    1    1     ⋯     0     0     0    \n",
              "[3,] 1    1    0    1    1    1    1    1    1    1     ⋯     0     0     0    \n",
              "[4,] 1    1    0    1    1    1    1    1    1    0     ⋯     0     0     0    \n",
              "[5,] 1    1    0    1    1    1    0    1    1    1     ⋯     0     0     0    \n",
              "[6,] 1    1    0    1    1    1    0    1    1    0     ⋯     0     0     0    \n",
              "     [,15] [,16] [,17] [,18] [,19] [,20] [,21]\n",
              "[1,] 0     0     0     0     0     0     0    \n",
              "[2,] 0     0     0     0     0     0     0    \n",
              "[3,] 0     0     0     0     0     0     0    \n",
              "[4,] 0     0     0     0     0     0     0    \n",
              "[5,] 0     0     0     0     0     0     0    \n",
              "[6,] 0     0     0     0     0     0     0    "
            ],
            "text/latex": "A matrix: 6 × 10000 of type dbl\n\\begin{tabular}{lllllllllllllllllllll}\n\t 1 & 1 & 0 & 1 & 1 & 1 & 1 & 1 & 1 & 1 & ⋯ & 0 & 0 & 0 & 0 & 0 & 0 & 0 & 0 & 0 & 0\\\\\n\t 1 & 1 & 0 & 1 & 1 & 1 & 1 & 1 & 1 & 1 & ⋯ & 0 & 0 & 0 & 0 & 0 & 0 & 0 & 0 & 0 & 0\\\\\n\t 1 & 1 & 0 & 1 & 1 & 1 & 1 & 1 & 1 & 1 & ⋯ & 0 & 0 & 0 & 0 & 0 & 0 & 0 & 0 & 0 & 0\\\\\n\t 1 & 1 & 0 & 1 & 1 & 1 & 1 & 1 & 1 & 0 & ⋯ & 0 & 0 & 0 & 0 & 0 & 0 & 0 & 0 & 0 & 0\\\\\n\t 1 & 1 & 0 & 1 & 1 & 1 & 0 & 1 & 1 & 1 & ⋯ & 0 & 0 & 0 & 0 & 0 & 0 & 0 & 0 & 0 & 0\\\\\n\t 1 & 1 & 0 & 1 & 1 & 1 & 0 & 1 & 1 & 0 & ⋯ & 0 & 0 & 0 & 0 & 0 & 0 & 0 & 0 & 0 & 0\\\\\n\\end{tabular}\n",
            "text/markdown": "\nA matrix: 6 × 10000 of type dbl\n\n| 1 | 1 | 0 | 1 | 1 | 1 | 1 | 1 | 1 | 1 | ⋯ | 0 | 0 | 0 | 0 | 0 | 0 | 0 | 0 | 0 | 0 |\n| 1 | 1 | 0 | 1 | 1 | 1 | 1 | 1 | 1 | 1 | ⋯ | 0 | 0 | 0 | 0 | 0 | 0 | 0 | 0 | 0 | 0 |\n| 1 | 1 | 0 | 1 | 1 | 1 | 1 | 1 | 1 | 1 | ⋯ | 0 | 0 | 0 | 0 | 0 | 0 | 0 | 0 | 0 | 0 |\n| 1 | 1 | 0 | 1 | 1 | 1 | 1 | 1 | 1 | 0 | ⋯ | 0 | 0 | 0 | 0 | 0 | 0 | 0 | 0 | 0 | 0 |\n| 1 | 1 | 0 | 1 | 1 | 1 | 0 | 1 | 1 | 1 | ⋯ | 0 | 0 | 0 | 0 | 0 | 0 | 0 | 0 | 0 | 0 |\n| 1 | 1 | 0 | 1 | 1 | 1 | 0 | 1 | 1 | 0 | ⋯ | 0 | 0 | 0 | 0 | 0 | 0 | 0 | 0 | 0 | 0 |\n\n",
            "text/html": [
              "<table>\n",
              "<caption>A matrix: 6 × 10000 of type dbl</caption>\n",
              "<tbody>\n",
              "\t<tr><td>1</td><td>1</td><td>0</td><td>1</td><td>1</td><td>1</td><td>1</td><td>1</td><td>1</td><td>1</td><td>⋯</td><td>0</td><td>0</td><td>0</td><td>0</td><td>0</td><td>0</td><td>0</td><td>0</td><td>0</td><td>0</td></tr>\n",
              "\t<tr><td>1</td><td>1</td><td>0</td><td>1</td><td>1</td><td>1</td><td>1</td><td>1</td><td>1</td><td>1</td><td>⋯</td><td>0</td><td>0</td><td>0</td><td>0</td><td>0</td><td>0</td><td>0</td><td>0</td><td>0</td><td>0</td></tr>\n",
              "\t<tr><td>1</td><td>1</td><td>0</td><td>1</td><td>1</td><td>1</td><td>1</td><td>1</td><td>1</td><td>1</td><td>⋯</td><td>0</td><td>0</td><td>0</td><td>0</td><td>0</td><td>0</td><td>0</td><td>0</td><td>0</td><td>0</td></tr>\n",
              "\t<tr><td>1</td><td>1</td><td>0</td><td>1</td><td>1</td><td>1</td><td>1</td><td>1</td><td>1</td><td>0</td><td>⋯</td><td>0</td><td>0</td><td>0</td><td>0</td><td>0</td><td>0</td><td>0</td><td>0</td><td>0</td><td>0</td></tr>\n",
              "\t<tr><td>1</td><td>1</td><td>0</td><td>1</td><td>1</td><td>1</td><td>0</td><td>1</td><td>1</td><td>1</td><td>⋯</td><td>0</td><td>0</td><td>0</td><td>0</td><td>0</td><td>0</td><td>0</td><td>0</td><td>0</td><td>0</td></tr>\n",
              "\t<tr><td>1</td><td>1</td><td>0</td><td>1</td><td>1</td><td>1</td><td>0</td><td>1</td><td>1</td><td>0</td><td>⋯</td><td>0</td><td>0</td><td>0</td><td>0</td><td>0</td><td>0</td><td>0</td><td>0</td><td>0</td><td>0</td></tr>\n",
              "</tbody>\n",
              "</table>\n"
            ]
          },
          "metadata": {
            "tags": []
          }
        },
        {
          "output_type": "display_data",
          "data": {
            "text/plain": [
              "[1] 25000"
            ],
            "text/latex": "25000",
            "text/markdown": "25000",
            "text/html": [
              "25000"
            ]
          },
          "metadata": {
            "tags": []
          }
        },
        {
          "output_type": "display_data",
          "data": {
            "text/plain": [
              "[1] 250000000"
            ],
            "text/latex": "250000000",
            "text/markdown": "250000000",
            "text/html": [
              "250000000"
            ]
          },
          "metadata": {
            "tags": []
          }
        }
      ]
    },
    {
      "cell_type": "code",
      "metadata": {
        "colab": {
          "base_uri": "https://localhost:8080/",
          "height": 113
        },
        "id": "_-jpD4vMnleG",
        "outputId": "2cf53253-704c-4c49-db9e-8aa8ccc276ac"
      },
      "source": [
        "head(train_data[1])"
      ],
      "execution_count": 17,
      "outputs": [
        {
          "output_type": "display_data",
          "data": {
            "text/plain": [
              "[[1]]\n",
              "  [1]    1   14   22   16   43  530  973 1622 1385   65  458 4468   66 3941    4\n",
              " [16]  173   36  256    5   25  100   43  838  112   50  670    2    9   35  480\n",
              " [31]  284    5  150    4  172  112  167    2  336  385   39    4  172 4536 1111\n",
              " [46]   17  546   38   13  447    4  192   50   16    6  147 2025   19   14   22\n",
              " [61]    4 1920 4613  469    4   22   71   87   12   16   43  530   38   76   15\n",
              " [76]   13 1247    4   22   17  515   17   12   16  626   18    2    5   62  386\n",
              " [91]   12    8  316    8  106    5    4 2223 5244   16  480   66 3785   33    4\n",
              "[106]  130   12   16   38  619    5   25  124   51   36  135   48   25 1415   33\n",
              "[121]    6   22   12  215   28   77   52    5   14  407   16   82    2    8    4\n",
              "[136]  107  117 5952   15  256    4    2    7 3766    5  723   36   71   43  530\n",
              "[151]  476   26  400  317   46    7    4    2 1029   13  104   88    4  381   15\n",
              "[166]  297   98   32 2071   56   26  141    6  194 7486   18    4  226   22   21\n",
              "[181]  134  476   26  480    5  144   30 5535   18   51   36   28  224   92   25\n",
              "[196]  104    4  226   65   16   38 1334   88   12   16  283    5   16 4472  113\n",
              "[211]  103   32   15   16 5345   19  178   32\n"
            ],
            "text/latex": "\\begin{enumerate}\n\\item \\begin{enumerate*}\n\\item 1\n\\item 14\n\\item 22\n\\item 16\n\\item 43\n\\item 530\n\\item 973\n\\item 1622\n\\item 1385\n\\item 65\n\\item 458\n\\item 4468\n\\item 66\n\\item 3941\n\\item 4\n\\item 173\n\\item 36\n\\item 256\n\\item 5\n\\item 25\n\\item 100\n\\item 43\n\\item 838\n\\item 112\n\\item 50\n\\item 670\n\\item 2\n\\item 9\n\\item 35\n\\item 480\n\\item 284\n\\item 5\n\\item 150\n\\item 4\n\\item 172\n\\item 112\n\\item 167\n\\item 2\n\\item 336\n\\item 385\n\\item 39\n\\item 4\n\\item 172\n\\item 4536\n\\item 1111\n\\item 17\n\\item 546\n\\item 38\n\\item 13\n\\item 447\n\\item 4\n\\item 192\n\\item 50\n\\item 16\n\\item 6\n\\item 147\n\\item 2025\n\\item 19\n\\item 14\n\\item 22\n\\item 4\n\\item 1920\n\\item 4613\n\\item 469\n\\item 4\n\\item 22\n\\item 71\n\\item 87\n\\item 12\n\\item 16\n\\item 43\n\\item 530\n\\item 38\n\\item 76\n\\item 15\n\\item 13\n\\item 1247\n\\item 4\n\\item 22\n\\item 17\n\\item 515\n\\item 17\n\\item 12\n\\item 16\n\\item 626\n\\item 18\n\\item 2\n\\item 5\n\\item 62\n\\item 386\n\\item 12\n\\item 8\n\\item 316\n\\item 8\n\\item 106\n\\item 5\n\\item 4\n\\item 2223\n\\item 5244\n\\item 16\n\\item 480\n\\item 66\n\\item 3785\n\\item 33\n\\item 4\n\\item 130\n\\item 12\n\\item 16\n\\item 38\n\\item 619\n\\item 5\n\\item 25\n\\item 124\n\\item 51\n\\item 36\n\\item 135\n\\item 48\n\\item 25\n\\item 1415\n\\item 33\n\\item 6\n\\item 22\n\\item 12\n\\item 215\n\\item 28\n\\item 77\n\\item 52\n\\item 5\n\\item 14\n\\item 407\n\\item 16\n\\item 82\n\\item 2\n\\item 8\n\\item 4\n\\item 107\n\\item 117\n\\item 5952\n\\item 15\n\\item 256\n\\item 4\n\\item 2\n\\item 7\n\\item 3766\n\\item 5\n\\item 723\n\\item 36\n\\item 71\n\\item 43\n\\item 530\n\\item 476\n\\item 26\n\\item 400\n\\item 317\n\\item 46\n\\item 7\n\\item 4\n\\item 2\n\\item 1029\n\\item 13\n\\item 104\n\\item 88\n\\item 4\n\\item 381\n\\item 15\n\\item 297\n\\item 98\n\\item 32\n\\item 2071\n\\item 56\n\\item 26\n\\item 141\n\\item 6\n\\item 194\n\\item 7486\n\\item 18\n\\item 4\n\\item 226\n\\item 22\n\\item 21\n\\item 134\n\\item 476\n\\item 26\n\\item 480\n\\item 5\n\\item 144\n\\item 30\n\\item 5535\n\\item 18\n\\item 51\n\\item 36\n\\item 28\n\\item 224\n\\item 92\n\\item 25\n\\item 104\n\\item 4\n\\item 226\n\\item 65\n\\item 16\n\\item 38\n\\item 1334\n\\item 88\n\\item 12\n\\item 16\n\\item 283\n\\item 5\n\\item 16\n\\item 4472\n\\item 113\n\\item 103\n\\item 32\n\\item 15\n\\item 16\n\\item 5345\n\\item 19\n\\item 178\n\\item 32\n\\end{enumerate*}\n\n\\end{enumerate}\n",
            "text/markdown": "1. 1. 1\n2. 14\n3. 22\n4. 16\n5. 43\n6. 530\n7. 973\n8. 1622\n9. 1385\n10. 65\n11. 458\n12. 4468\n13. 66\n14. 3941\n15. 4\n16. 173\n17. 36\n18. 256\n19. 5\n20. 25\n21. 100\n22. 43\n23. 838\n24. 112\n25. 50\n26. 670\n27. 2\n28. 9\n29. 35\n30. 480\n31. 284\n32. 5\n33. 150\n34. 4\n35. 172\n36. 112\n37. 167\n38. 2\n39. 336\n40. 385\n41. 39\n42. 4\n43. 172\n44. 4536\n45. 1111\n46. 17\n47. 546\n48. 38\n49. 13\n50. 447\n51. 4\n52. 192\n53. 50\n54. 16\n55. 6\n56. 147\n57. 2025\n58. 19\n59. 14\n60. 22\n61. 4\n62. 1920\n63. 4613\n64. 469\n65. 4\n66. 22\n67. 71\n68. 87\n69. 12\n70. 16\n71. 43\n72. 530\n73. 38\n74. 76\n75. 15\n76. 13\n77. 1247\n78. 4\n79. 22\n80. 17\n81. 515\n82. 17\n83. 12\n84. 16\n85. 626\n86. 18\n87. 2\n88. 5\n89. 62\n90. 386\n91. 12\n92. 8\n93. 316\n94. 8\n95. 106\n96. 5\n97. 4\n98. 2223\n99. 5244\n100. 16\n101. 480\n102. 66\n103. 3785\n104. 33\n105. 4\n106. 130\n107. 12\n108. 16\n109. 38\n110. 619\n111. 5\n112. 25\n113. 124\n114. 51\n115. 36\n116. 135\n117. 48\n118. 25\n119. 1415\n120. 33\n121. 6\n122. 22\n123. 12\n124. 215\n125. 28\n126. 77\n127. 52\n128. 5\n129. 14\n130. 407\n131. 16\n132. 82\n133. 2\n134. 8\n135. 4\n136. 107\n137. 117\n138. 5952\n139. 15\n140. 256\n141. 4\n142. 2\n143. 7\n144. 3766\n145. 5\n146. 723\n147. 36\n148. 71\n149. 43\n150. 530\n151. 476\n152. 26\n153. 400\n154. 317\n155. 46\n156. 7\n157. 4\n158. 2\n159. 1029\n160. 13\n161. 104\n162. 88\n163. 4\n164. 381\n165. 15\n166. 297\n167. 98\n168. 32\n169. 2071\n170. 56\n171. 26\n172. 141\n173. 6\n174. 194\n175. 7486\n176. 18\n177. 4\n178. 226\n179. 22\n180. 21\n181. 134\n182. 476\n183. 26\n184. 480\n185. 5\n186. 144\n187. 30\n188. 5535\n189. 18\n190. 51\n191. 36\n192. 28\n193. 224\n194. 92\n195. 25\n196. 104\n197. 4\n198. 226\n199. 65\n200. 16\n201. 38\n202. 1334\n203. 88\n204. 12\n205. 16\n206. 283\n207. 5\n208. 16\n209. 4472\n210. 113\n211. 103\n212. 32\n213. 15\n214. 16\n215. 5345\n216. 19\n217. 178\n218. 32\n\n\n\n\n\n",
            "text/html": [
              "<ol>\n",
              "\t<li><style>\n",
              ".list-inline {list-style: none; margin:0; padding: 0}\n",
              ".list-inline>li {display: inline-block}\n",
              ".list-inline>li:not(:last-child)::after {content: \"\\00b7\"; padding: 0 .5ex}\n",
              "</style>\n",
              "<ol class=list-inline><li>1</li><li>14</li><li>22</li><li>16</li><li>43</li><li>530</li><li>973</li><li>1622</li><li>1385</li><li>65</li><li>458</li><li>4468</li><li>66</li><li>3941</li><li>4</li><li>173</li><li>36</li><li>256</li><li>5</li><li>25</li><li>100</li><li>43</li><li>838</li><li>112</li><li>50</li><li>670</li><li>2</li><li>9</li><li>35</li><li>480</li><li>284</li><li>5</li><li>150</li><li>4</li><li>172</li><li>112</li><li>167</li><li>2</li><li>336</li><li>385</li><li>39</li><li>4</li><li>172</li><li>4536</li><li>1111</li><li>17</li><li>546</li><li>38</li><li>13</li><li>447</li><li>4</li><li>192</li><li>50</li><li>16</li><li>6</li><li>147</li><li>2025</li><li>19</li><li>14</li><li>22</li><li>4</li><li>1920</li><li>4613</li><li>469</li><li>4</li><li>22</li><li>71</li><li>87</li><li>12</li><li>16</li><li>43</li><li>530</li><li>38</li><li>76</li><li>15</li><li>13</li><li>1247</li><li>4</li><li>22</li><li>17</li><li>515</li><li>17</li><li>12</li><li>16</li><li>626</li><li>18</li><li>2</li><li>5</li><li>62</li><li>386</li><li>12</li><li>8</li><li>316</li><li>8</li><li>106</li><li>5</li><li>4</li><li>2223</li><li>5244</li><li>16</li><li>480</li><li>66</li><li>3785</li><li>33</li><li>4</li><li>130</li><li>12</li><li>16</li><li>38</li><li>619</li><li>5</li><li>25</li><li>124</li><li>51</li><li>36</li><li>135</li><li>48</li><li>25</li><li>1415</li><li>33</li><li>6</li><li>22</li><li>12</li><li>215</li><li>28</li><li>77</li><li>52</li><li>5</li><li>14</li><li>407</li><li>16</li><li>82</li><li>2</li><li>8</li><li>4</li><li>107</li><li>117</li><li>5952</li><li>15</li><li>256</li><li>4</li><li>2</li><li>7</li><li>3766</li><li>5</li><li>723</li><li>36</li><li>71</li><li>43</li><li>530</li><li>476</li><li>26</li><li>400</li><li>317</li><li>46</li><li>7</li><li>4</li><li>2</li><li>1029</li><li>13</li><li>104</li><li>88</li><li>4</li><li>381</li><li>15</li><li>297</li><li>98</li><li>32</li><li>2071</li><li>56</li><li>26</li><li>141</li><li>6</li><li>194</li><li>7486</li><li>18</li><li>4</li><li>226</li><li>22</li><li>21</li><li>134</li><li>476</li><li>26</li><li>480</li><li>5</li><li>144</li><li>30</li><li>5535</li><li>18</li><li>51</li><li>36</li><li>28</li><li>224</li><li>92</li><li>25</li><li>104</li><li>4</li><li>226</li><li>65</li><li>16</li><li>38</li><li>1334</li><li>88</li><li>12</li><li>16</li><li>283</li><li>5</li><li>16</li><li>4472</li><li>113</li><li>103</li><li>32</li><li>15</li><li>16</li><li>5345</li><li>19</li><li>178</li><li>32</li></ol>\n",
              "</li>\n",
              "</ol>\n"
            ]
          },
          "metadata": {
            "tags": []
          }
        }
      ]
    },
    {
      "cell_type": "code",
      "metadata": {
        "id": "_AQ8SJ6y40Ke"
      },
      "source": [
        "# label 정수 >> 숫자\n",
        "y_train <- as.numeric(train_labels)\n",
        "y_test <- as.numeric(test_labels)"
      ],
      "execution_count": 18,
      "outputs": []
    },
    {
      "cell_type": "markdown",
      "metadata": {
        "id": "see0lt_o4toi"
      },
      "source": [
        "# 망 구축"
      ]
    },
    {
      "cell_type": "code",
      "metadata": {
        "id": "CZ03ddW-4uW4"
      },
      "source": [
        "model <- keras_model_sequential() %>%\n",
        "  layer_dense(units = 16, activation = 'relu', input_shape= c(10000)) %>%\n",
        "  layer_dense(units = 16, activation = 'relu') %>%\n",
        "  layer_dense(units = 1, activation = 'sigmoid')"
      ],
      "execution_count": 19,
      "outputs": []
    },
    {
      "cell_type": "code",
      "metadata": {
        "colab": {
          "base_uri": "https://localhost:8080/",
          "height": 301
        },
        "id": "cLYN9ZLy7KEn",
        "outputId": "28d1ed6d-4bfd-4def-e254-47f86c4f7c19"
      },
      "source": [
        "model"
      ],
      "execution_count": 20,
      "outputs": [
        {
          "output_type": "display_data",
          "data": {
            "text/plain": [
              "Model\n",
              "Model: \"sequential\"\n",
              "________________________________________________________________________________\n",
              "Layer (type)                        Output Shape                    Param #     \n",
              "================================================================================\n",
              "dense_2 (Dense)                     (None, 16)                      160016      \n",
              "________________________________________________________________________________\n",
              "dense_1 (Dense)                     (None, 16)                      272         \n",
              "________________________________________________________________________________\n",
              "dense (Dense)                       (None, 1)                       17          \n",
              "================================================================================\n",
              "Total params: 160,305\n",
              "Trainable params: 160,305\n",
              "Non-trainable params: 0\n",
              "________________________________________________________________________________\n",
              "\n"
            ]
          },
          "metadata": {
            "tags": []
          }
        }
      ]
    },
    {
      "cell_type": "code",
      "metadata": {
        "id": "2V6P4N4660wS"
      },
      "source": [
        "model %>% compile(\n",
        "  optimizer ='rmsprop',\n",
        "  loss = 'binary_crossentropy',\n",
        "  metrics = c('accuracy')\n",
        ")"
      ],
      "execution_count": 21,
      "outputs": []
    },
    {
      "cell_type": "code",
      "metadata": {
        "id": "gHtd4f4T7f1I"
      },
      "source": [
        "# 검증 set\n",
        "val_indices <- 1:10000\n",
        "x_val <- x_train[val_indices,]\n",
        "partial_x_train <- x_train[-val_indices,]\n",
        "y_val <- y_train[val_indices]\n",
        "partial_y_train <- y_train[-val_indices]"
      ],
      "execution_count": 24,
      "outputs": []
    },
    {
      "cell_type": "code",
      "metadata": {
        "id": "Ej63a7Xi7S2H"
      },
      "source": [
        "history <- model %>% fit(\n",
        "  partial_x_train,\n",
        "  partial_y_train,\n",
        "  epochs = 20,\n",
        "  batch_size = 512,\n",
        "  validation_data = list(x_val, y_val)\n",
        ")"
      ],
      "execution_count": 25,
      "outputs": []
    },
    {
      "cell_type": "code",
      "metadata": {
        "colab": {
          "base_uri": "https://localhost:8080/"
        },
        "id": "61ag8fkZ8OPJ",
        "outputId": "3fbe4422-712d-4bed-885b-aa961fb10859"
      },
      "source": [
        "str(history)"
      ],
      "execution_count": 26,
      "outputs": [
        {
          "output_type": "stream",
          "text": [
            "List of 2\n",
            " $ params :List of 3\n",
            "  ..$ verbose: int 1\n",
            "  ..$ epochs : int 20\n",
            "  ..$ steps  : int 30\n",
            " $ metrics:List of 4\n",
            "  ..$ loss        : num [1:20] 0.504 0.301 0.221 0.177 0.145 ...\n",
            "  ..$ accuracy    : num [1:20] 0.787 0.9 0.927 0.944 0.954 ...\n",
            "  ..$ val_loss    : num [1:20] 0.373 0.307 0.279 0.315 0.28 ...\n",
            "  ..$ val_accuracy: num [1:20] 0.874 0.887 0.891 0.872 0.888 ...\n",
            " - attr(*, \"class\")= chr \"keras_training_history\"\n"
          ],
          "name": "stdout"
        }
      ]
    },
    {
      "cell_type": "code",
      "metadata": {
        "id": "9czIh1PY8O4v",
        "colab": {
          "base_uri": "https://localhost:8080/",
          "height": 473
        },
        "outputId": "ccaa097b-4f90-4619-afff-76c01349593d"
      },
      "source": [
        "plot(history)"
      ],
      "execution_count": 27,
      "outputs": [
        {
          "output_type": "stream",
          "text": [
            "`geom_smooth()` using formula 'y ~ x'\n",
            "\n"
          ],
          "name": "stderr"
        },
        {
          "output_type": "display_data",
          "data": {
            "image/png": "[encoded data removed]",
            "text/plain": [
              "plot without title"
            ]
          },
          "metadata": {
            "tags": [],
            "image/png": {
              "width": 420,
              "height": 420
            }
          }
        }
      ]
    },
    {
      "cell_type": "code",
      "metadata": {
        "colab": {
          "base_uri": "https://localhost:8080/",
          "height": 152
        },
        "id": "xx0O7u2dke32",
        "outputId": "c3932696-ecff-46e0-b490-d95413270e7f"
      },
      "source": [
        ""
      ],
      "execution_count": 28,
      "outputs": [
        {
          "output_type": "error",
          "ename": "ERROR",
          "evalue": "ignored",
          "traceback": [
            "Error in UseMethod(\"evaluate\"): no applicable method for 'evaluate' applied to an object of class \"keras_training_history\"\nTraceback:\n",
            "1. history %>% evaluate(x_test, y_test)",
            "2. evaluate(., x_test, y_test)"
          ]
        }
      ]
    },
    {
      "cell_type": "code",
      "metadata": {
        "id": "mRnJxoAEnAV2"
      },
      "source": [
        ""
      ],
      "execution_count": null,
      "outputs": []
    }
  ]
}